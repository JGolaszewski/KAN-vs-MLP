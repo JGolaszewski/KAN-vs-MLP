{
 "cells": [
  {
   "cell_type": "code",
   "execution_count": null,
   "id": "ade07124",
   "metadata": {},
   "outputs": [],
   "source": [
    "prnt(\"Piwo piwo kocham piwo\")"
   ]
  }
 ],
 "metadata": {
  "language_info": {
   "name": "python"
  }
 },
 "nbformat": 4,
 "nbformat_minor": 5
}
